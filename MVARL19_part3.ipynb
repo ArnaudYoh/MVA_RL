{
 "cells": [
  {
   "cell_type": "markdown",
   "metadata": {
    "colab_type": "text",
    "id": "rly7ZGiyUKJ6"
   },
   "source": [
    "# Exploration in Linear Bandits\n",
    "\n",
    "The objective of this part is to implement and compare the following strategies for linear bandits:\n",
    "\n",
    "[Optimism in the Face of Uncertainty (LinUCB/OFUL)](https://papers.nips.cc/paper/4417-improved-algorithms-for-linear-stochastic-bandits.pdf)\n",
    "\n",
    "[Thompson Sampling](https://projecteuclid.org/euclid.ejs/1513306870)"
   ]
  },
  {
   "cell_type": "markdown",
   "metadata": {
    "colab_type": "text",
    "id": "infCxpaRA0XC"
   },
   "source": [
    "## Linear bandit\n",
    "We consider the standard linear bandit setting. At each time $t$, the agent selects an arm $a_t \\in A$ and observes a reward\n",
    "$$\n",
    "r_{a}^t = \\langle \\theta^\\star, \\phi_a^t \\rangle + \\eta_a^t := \\mu_a^t + \\eta_a^t\n",
    "$$\n",
    "where $\\theta^{\\star} \\in \\mathbb{R}^{d}$ is a parameter vector, $\\phi_{a}^t \\in \\mathbb{R}^{d} $ are the features of arm $a$ at time $t$, and $\\eta_{a}^{t}$ is a zero-mean  $\\sigma^2$-subgaussian noise. \n",
    "\n",
    "When the features correspond to the canonical basis, this formulation reduces to multi-armed bandit (MAB) with $d$ arms. In the more general case, the features may depend on a context $x_t$, so that $\\phi_a^t = \\phi(x_t, a)$ denotes the feature vector of a context-action pair $(x_t, a)$ and the resulting setting is the so-called linear contextual bandit.\n",
    "\n",
    "We rely on the following standard assumption on the features and the unknown parameter $\\theta^\\star$.\n",
    "\n",
    "**Assumption.** There exist $B,D \\geq 0$, such that $\\|\\theta^\\star\\|_2 \\leq B$, $\\|\\phi_a^t\\| \\leq D$, and $\\langle \\theta^\\star, \\phi_a^t \\rangle \\in [0,1]$, for all $t$ and $a$.\n",
    "\n",
    "Given a finite horizon $n$, the performance of the agent is measured by its (pseudo)-*regret*:\n",
    "$$\n",
    "        %R(n) = n \\mu^{\\star} - \\sum_{t=1}^n \\mu_{a_t} = \\sum_{i=1}^K T_i(n) \\Delta_i, \n",
    "        R(n) = \\sum_{t=1}^n \\langle \\theta^\\star, \\phi_{a^\\star}^t \\rangle - \\langle \\theta^\\star, \\phi_{a_t}^t \\rangle ,\n",
    "$$\n",
    "where $a^{\\star}_{t} \\in \\arg\\max_{a} \\langle \\theta^\\star, \\phi_{a}^t \\rangle$ is the optimal action at time $t$.\n",
    "\n",
    "**We consider the simple linear bandit setting:** $\\phi_a^t = \\phi_a, \\; \\forall t$\n",
    "\n",
    "\n"
   ]
  },
  {
   "cell_type": "code",
   "execution_count": 1,
   "metadata": {
    "colab": {},
    "colab_type": "code",
    "id": "SlwPdLAwUWfI"
   },
   "outputs": [
    {
     "name": "stdout",
     "output_type": "stream",
     "text": [
      "Cloning into 'mvarl_hands_on'...\n",
      "remote: Enumerating objects: 39, done.\u001b[K\n",
      "remote: Counting objects: 100% (39/39), done.\u001b[K\n",
      "remote: Compressing objects: 100% (27/27), done.\u001b[K\n",
      "remote: Total 39 (delta 14), reused 37 (delta 12), pack-reused 0\u001b[K\n",
      "Unpacking objects: 100% (39/39), done.\n",
      "cliffwalk.py  discretization.py  frozen_lake.py  test_env.py\n",
      "coldstart.py  finite_env.py\t gridworld.py\n"
     ]
    }
   ],
   "source": [
    "!rm -rf mvarl_hands_on/\n",
    "!git clone https://github.com/rlgammazero/mvarl_hands_on.git\n",
    "!cd mvarl_hands_on/ && git fetch\n",
    "!ls mvarl_hands_on/utils"
   ]
  },
  {
   "cell_type": "code",
   "execution_count": 2,
   "metadata": {
    "colab": {},
    "colab_type": "code",
    "id": "wWQOcbHbUKJ8"
   },
   "outputs": [],
   "source": [
    "import sys\n",
    "sys.path.insert(0, './mvarl_hands_on/utils')\n",
    "import os\n",
    "import numpy as np\n",
    "from pprint import pprint\n",
    "from scipy.sparse.linalg import svds\n",
    "import matplotlib.pyplot as plt\n",
    "from scipy.stats import multivariate_normal\n",
    "import math\n",
    "from tqdm import tqdm"
   ]
  },
  {
   "cell_type": "code",
   "execution_count": 3,
   "metadata": {},
   "outputs": [],
   "source": [
    "from mvarl_hands_on.utils.coldstart import ColdStartFromDataset"
   ]
  },
  {
   "cell_type": "markdown",
   "metadata": {
    "colab_type": "text",
    "id": "78oy9izEUKKA"
   },
   "source": [
    "#### Jester Jokes Dataset (Dense subset of 40 jokes)\n",
    "\n",
    "Deep Bayesian Bandits Showdown: An Empirical Comparison of Bayesian Deep Networks for Thompson Sampling\n",
    "\n",
    "Download the data at: https://storage.googleapis.com/bandits_datasets/jester_data_40jokes_19181users.npy\n",
    "\n",
    "We performed a matrix factorization of the ratings (after filtering over users and jokes). This provides features for the arms and users, the reward (ie rating) is the dot product between the arm and user features (we make it stochastic by adding Gaussian noise). We consider a cold start problem where the user is randomly selected at the beginning of the repetition and the agent has to learn the best arm to recommend. When an arm is selected by the algorithm, its reward is computed as the dot product between the arm and user features."
   ]
  },
  {
   "cell_type": "code",
   "execution_count": 4,
   "metadata": {
    "colab": {},
    "colab_type": "code",
    "id": "HW1YAyl1UKKB"
   },
   "outputs": [],
   "source": [
    "#!wget https://storage.googleapis.com/bandits_datasets/jester_data_40jokes_19181users.npy"
   ]
  },
  {
   "cell_type": "code",
   "execution_count": 16,
   "metadata": {
    "colab": {},
    "colab_type": "code",
    "id": "7ZsqokZKUKKD"
   },
   "outputs": [
    {
     "name": "stdout",
     "output_type": "stream",
     "text": [
      "[[ 7.82  1.12 -8.4  ...  4.95  8.3  -9.85]\n",
      " [ 4.71  7.57  3.4  ...  0.73  1.12  3.3 ]\n",
      " [ 3.93  2.91 -8.3  ...  6.65  7.28 -3.64]\n",
      " ...\n",
      " [ 8.64  3.4   3.4  ...  2.23  8.35 -0.15]\n",
      " [ 3.2   3.74  8.88 ... -7.18 -1.12  7.67]\n",
      " [ 1.21  5.49  1.12 ...  8.54  7.48 -9.32]]\n",
      "U: (19181, 35)\n",
      "Vt: (35, 40)\n",
      "#features: 35\n",
      "#arms: 40\n"
     ]
    }
   ],
   "source": [
    "M = np.load('jester_data_40jokes_19181users.npy')\n",
    "M = M / 10\n",
    "K = 35\n",
    "U, s, Vt = svds(M, k = K)\n",
    "s=np.diag(s)\n",
    "U = np.dot(U,s)\n",
    "print('U: {}'.format(U.shape))\n",
    "print('Vt: {}'.format(Vt.shape))\n",
    "print('#features: {}'.format(Vt.shape[0]))\n",
    "print('#arms: {}'.format(Vt.shape[1]))\n",
    "np.savetxt('U_jester.csv', U, delimiter=',') \n",
    "np.savetxt('Vt_jester.csv', Vt, delimiter=',') "
   ]
  },
  {
   "cell_type": "markdown",
   "metadata": {
    "colab_type": "text",
    "id": "VmQdkpc-UKKF"
   },
   "source": [
    "Create the coldstart model"
   ]
  },
  {
   "cell_type": "code",
   "execution_count": 6,
   "metadata": {
    "colab": {},
    "colab_type": "code",
    "id": "fDXGgf-HUKKF"
   },
   "outputs": [
    {
     "name": "stdout",
     "output_type": "stream",
     "text": [
      "Current config is:\n",
      "{'arm_csvfile': '/home/naunauyoh/PycharmProjects/MVA_RL/Vt_jester.csv',\n",
      " 'noise_std': 0.1,\n",
      " 'random_state': 1235,\n",
      " 'user_csvfile': '/home/naunauyoh/PycharmProjects/MVA_RL/U_jester.csv',\n",
      " 'user_subset': [0, 44, 88, 133, 177, 222, 266, 311, 355, 400]}\n"
     ]
    }
   ],
   "source": [
    "seed = 1235\n",
    "user_subset = np.linspace(0, 400, 10).astype(int).tolist()\n",
    "arm_csvfile = os.path.abspath('Vt_jester.csv')\n",
    "user_csvfile = os.path.abspath('U_jester.csv')\n",
    "noise_std = 0.1\n",
    "\n",
    "config_cs = {\n",
    "    'arm_csvfile': arm_csvfile,\n",
    "    'user_csvfile': user_csvfile,\n",
    "    'random_state': seed,\n",
    "    'user_subset': user_subset,\n",
    "    'noise_std': noise_std\n",
    "}\n",
    "\n",
    "print(\"Current config is:\")\n",
    "pprint(config_cs)\n"
   ]
  },
  {
   "cell_type": "code",
   "execution_count": 7,
   "metadata": {
    "colab": {},
    "colab_type": "code",
    "id": "cjPeT4LLUKKH"
   },
   "outputs": [
    {
     "name": "stdout",
     "output_type": "stream",
     "text": [
      "\n",
      "The new user arriving to the system is user # 222\n",
      "\n",
      "Theta*:  [ 0.60768701  0.22282253 -0.22643899  0.02040195  0.59490395  0.44860969\n",
      " -0.6017342   0.51336444 -0.33916609  1.08450089  0.19933839  0.31922471\n",
      "  0.14813868  0.33235693  0.1490287  -0.03148608 -0.52536238  0.15506547\n",
      " -0.35049923 -0.04381107 -0.30580771  0.6075547  -0.7093192  -0.12169536\n",
      " -0.59119731  0.751896   -0.12526202  0.96516389  0.15991881  0.95369292\n",
      "  0.13907613  0.49802877  0.50969068 -1.1405248   1.99847038]\n",
      "\n",
      "Means:  [0.03166748 1.         0.7812777  0.86211556 0.47401511 0.78737614\n",
      " 0.7220526  0.53701573 0.35024036 0.71579278 0.81149121 0.1887264\n",
      " 0.78713313 0.88226533 0.02188491 0.62244738 0.74552921 0.44693205\n",
      " 0.57882853 0.63138315 0.01585463 0.48629039 0.7895057  0.83992301\n",
      " 0.77264996 0.69231019 0.6554525  0.65802771 0.74321219 0.7367446\n",
      " 0.69337476 0.36425563 0.02093084 0.75762399 0.42779578 0.74545807\n",
      " 0.73585842 0.67338801 0.         0.70343108]\n",
      "\n",
      "Theta bound:  3.6420157245628464\n"
     ]
    }
   ],
   "source": [
    "noise = 0.2\n",
    "random_state = 312\n",
    "model = ColdStartFromDataset(**config_cs)\n",
    "print(\"\\nThe new user arriving to the system is user #\", model.theta_idx)\n",
    "print(\"\\nTheta*: \", model.theta)\n",
    "means = np.dot(model.features, model.theta)\n",
    "print(\"\\nMeans: \", means)\n",
    "theta_bound = np.linalg.norm(model.theta, 2)\n",
    "print(\"\\nTheta bound: \", theta_bound)"
   ]
  },
  {
   "cell_type": "markdown",
   "metadata": {
    "colab_type": "text",
    "id": "6KUmWBFlUKKJ"
   },
   "source": [
    "**Question 1**: implement LinUCB"
   ]
  },
  {
   "cell_type": "markdown",
   "metadata": {
    "colab_type": "text",
    "id": "G45BzTW_J4Gr"
   },
   "source": [
    "### LinUCB / OFUL\n",
    "See the slides!\n",
    "\n",
    "Note that it is not necessary to invert the matrix $A_t$ at each round. Since $A_t$ is obtained from a rank-1 update of $A_{t-1}$, it is possible to use Sherman–Morrison formula to build directly $A_t^{-1}$.\n",
    "\n",
    "Suppose $𝐴$ be a nonsingular $n\\times n$ matrix and $\\mathbf{u}, \\mathbf{v}$ be vectors. Then\n",
    "$$\n",
    "(A+\\mathbf{u}\\mathbf{v}^T)^{-1} = A^{-1} - \\frac{A^{-1}\\mathbf{u}\\mathbf{v}^TA^{-1}}{1+\\mathbf{v}^TA^{-1}\\mathbf{u}}.\n",
    "$$"
   ]
  },
  {
   "cell_type": "code",
   "execution_count": 8,
   "metadata": {
    "colab": {},
    "colab_type": "code",
    "id": "AxRC2xoAUKKJ"
   },
   "outputs": [],
   "source": [
    "class OFUL:\n",
    "    def __init__(self, arm_features, reg_factor, delta,\n",
    "                 bound_theta, noise_std):\n",
    "        \n",
    "        self.arm_features = arm_features\n",
    "        self.reg_factor = reg_factor\n",
    "        self.delta = delta\n",
    "        self.iteration = 0\n",
    "        self.bound_theta = bound_theta\n",
    "        self.bound_features = np.max(np.sqrt(np.sum(np.abs(arm_features) ** 2, axis=1)))\n",
    "        self.noise_std = noise_std\n",
    "        \n",
    "        self.A = np.eye(self.n_features)\n",
    "        self.A_inv = np.eye(self.n_features)\n",
    "        self.b = np.zeros(self.n_features)\n",
    "        self.theta = np.zeros(self.n_features)\n",
    "\n",
    "        self.reset()\n",
    "\n",
    "    @property\n",
    "    def n_actions(self):\n",
    "        return self.arm_features.shape[0]\n",
    "\n",
    "    @property\n",
    "    def n_features(self):\n",
    "        return self.arm_features.shape[1]\n",
    "    \n",
    "    def reset(self):\n",
    "        \"\"\"Return the internal estimates\n",
    "        \n",
    "        Not sure about the naming of this function ... \n",
    "        I followed the description rather than the function naming\n",
    "        \"\"\"\n",
    "        estimates = []\n",
    "        for arm_feature in self.arm_features:\n",
    "            estimates.append(arm_feature.dot(self.theta))\n",
    "        \n",
    "        return np.array(estimates)\n",
    "        \n",
    "    def alpha(self): #def alpha(self, n_samples):\n",
    "        # TODO \n",
    "        # remove the n_samples (?) as it seems equivalent to self.iteration\n",
    "        \n",
    "        regularization = np.sqrt(self.reg_factor) * self.bound_theta\n",
    "        alpha_weight = np.sqrt(self.n_features * np.log(\n",
    "            (1 + self.iteration * self.bound_features / self.reg_factor) \n",
    "            / self.delta))\n",
    "        \n",
    "        return self.noise_std * alpha_weight + regularization\n",
    "        \n",
    "    def sample_action(self):\n",
    "        \"\"\"Return the action to play based on current estimates\n",
    "        \"\"\"\n",
    "        self.iteration += 1\n",
    "        action = None\n",
    "        val = None\n",
    "        estimates = self.reset()\n",
    "        for i, estimate in enumerate(estimates):\n",
    "            B = estimate + self.alpha() * np.sqrt(self.arm_features[i].dot(self.A_inv).dot(self.arm_features[i]))\n",
    "            if action is None or val < B:\n",
    "                action = i\n",
    "                val = B\n",
    "        return action\n",
    "    \n",
    "    def update(self, a_t, r_t):\n",
    "        \"\"\"Update the estimates of the model\n",
    "        \n",
    "\n",
    "        Parameters\n",
    "        ----------\n",
    "        a_t: int\n",
    "            The action played at the current episode\n",
    "        r_t: float\n",
    "            The reward associated to action a_t\n",
    "\n",
    "        Returns\n",
    "        -------\n",
    "        none\n",
    "        \"\"\"\n",
    "        features = self.arm_features[a_t]\n",
    "        self.A += np.outer(features, features)\n",
    "        \n",
    "        self.b += r_t*features\n",
    "        \n",
    "        self.A_inv = self.A_inv - self.A_inv.dot(np.outer(features,features)).dot(self.A_inv) / \\\n",
    "            (1 + features.dot(self.A_inv).dot(features))\n",
    "        \n",
    "        self.theta = self.A_inv.dot(self.b)\n",
    "\n",
    "        "
   ]
  },
  {
   "cell_type": "markdown",
   "metadata": {
    "colab_type": "text",
    "id": "OtwYcKlrK6UP"
   },
   "source": [
    "**Question 2:** implement LinearTS"
   ]
  },
  {
   "cell_type": "markdown",
   "metadata": {
    "colab_type": "text",
    "id": "9xl29-B3MEOC"
   },
   "source": [
    "Let $A_t$ be the design matrix, $\\theta_t$ the estimate of $\\theta^\\star$ and $\\beta_t$ the confidence interval built by LinUCB. Then, at every time step t,  LinearTS simply generates\n",
    "a sample $\\tilde{\\theta}_t$ from the distribution $\\mathcal{N}(\\widehat{\\theta}_t, \\omega_t \\alpha_t^2 A_t^{-1})$.\n",
    "\n",
    "LinearTS\n",
    "\n",
    "For $t=1, \\ldots, T$\n",
    "> $\\tilde{\\theta}_t \\sim \\mathcal{N}(\\widehat{\\theta}_t, \\omega_t \\alpha_t^2 A_t^{-1})$\n",
    ">\n",
    "> $a_t \\in \\arg\\max_{a \\in \\mathcal{A}_t}  \\langle \\tilde{\\theta}_t, \\phi_{a} \\rangle$\n",
    ">\n",
    "> observe reward $r_t$\n",
    "\n",
    "TS is requires to draw $\\tilde{\\theta}_t$ from a distribution over-sampling by a factor $\\sqrt{d}$ the ellipsoid constructed by OFUL (i.e., $\\omega_t = d$). This is required to prove that LinearTS is optimistic with a fix probability. This is necessary to prove the frequentist regret of TS. The regret of TS is worse than the one of LinUCB by a factor $\\sqrt{d}$ (i.e., $\\widetilde{O}(d^{3/2}\\sqrt{T})$)"
   ]
  },
  {
   "cell_type": "code",
   "execution_count": 24,
   "metadata": {
    "colab": {},
    "colab_type": "code",
    "id": "zTJh0yqgUKKM"
   },
   "outputs": [],
   "source": [
    "class LinearTS(OFUL):\n",
    "    def __init__(self, arm_features, reg_factor, delta,\n",
    "                 bound_theta, noise_std, T):\n",
    "        super(LinearTS, self).__init__(arm_features, reg_factor, delta,\n",
    "                 bound_theta, noise_std)\n",
    "   \n",
    "        self.delta = delta / (4*T)\n",
    "    \n",
    "    \n",
    "    def alpha(self): \n",
    "        # TODO \n",
    "        \n",
    "        regularization = np.sqrt(self.reg_factor) * self.bound_theta\n",
    "        alpha_weight = np.sqrt(2 * self.n_features * \n",
    "                               np.log(\n",
    "                                   np.sqrt(((self.reg_factor + self.iteration) / self.reg_factor ) ** (self.n_features)) / \\\n",
    "                                   (self.delta)\n",
    "                               )\n",
    "                              )\n",
    "        \n",
    "        return self.noise_std * alpha_weight + regularization\n",
    "    \n",
    "    def reset(self):\n",
    "        \"\"\"Return the internal estimates\n",
    "        \n",
    "        Not sure about the naming of this function ... \n",
    "        I followed the description rather than the function naming\n",
    "        \"\"\"\n",
    "        estimates = []\n",
    "        #sample_theta = np.random.multivariate_normal(self.theta, self.n_features *  self.alpha() ** 2 * self.A_inv) \n",
    "        sample_theta = np.random.multivariate_normal(self.theta,  self.alpha() ** 2 * self.A_inv) \n",
    "        for arm_feature in self.arm_features:\n",
    "            estimates.append(arm_feature.dot(sample_theta))\n",
    "        \n",
    "        return np.array(estimates)\n",
    "    \n",
    "    def sample_action(self):\n",
    "        \"\"\"Return the action to play based on current estimates\n",
    "        \"\"\"\n",
    "        self.iteration += 1\n",
    "        estimates = self.reset()\n",
    "        action = np.argmax(estimates)\n",
    "        return action\n",
    "    \n",
    "    #update is the same as LinUCB so no need to redefine\n",
    "        "
   ]
  },
  {
   "cell_type": "markdown",
   "metadata": {
    "colab_type": "text",
    "id": "kKERx2_UUKKN"
   },
   "source": [
    "**Question 3**: run the algorithms (`LinUCB` and `LinearTS`) and average the performance over multiple users (ie simulations)\n",
    "\n",
    "The regret $R(T) = \\sum_t \\phi_t^\\top (\\theta^\\star - \\theta_t)$\n",
    "\n",
    "The performance is the expected regret over multiple users. You can also test `LinearTS` without the additional $\\sqrt{d}$."
   ]
  },
  {
   "cell_type": "markdown",
   "metadata": {
    "colab_type": "text",
    "id": "urKPGY9vXxRn"
   },
   "source": [
    "You can use `RandomLinearArms` to test your code before using Jester"
   ]
  },
  {
   "cell_type": "markdown",
   "metadata": {},
   "source": [
    "### Using the regret as $R(T) = \\sum_t (r(a^\\star) - r(a))$"
   ]
  },
  {
   "cell_type": "code",
   "execution_count": 25,
   "metadata": {},
   "outputs": [
    {
     "name": "stdout",
     "output_type": "stream",
     "text": [
      "OFUL simulation 1/4\n",
      "Found Theta [-0.05499182  0.15981639  0.21370678  0.20376177  0.18874919 -0.20789276\n",
      "  0.14671442  0.43438274  0.08342308 -0.07612195 -0.07697592 -0.1954904\n",
      " -0.22939952  0.13366537 -0.92765266 -0.38342076 -0.35104069  0.751102\n",
      "  0.22594559  0.60717206 -0.27859827  0.82652273  0.06584339 -0.62897913\n",
      " -0.13451449  0.4862159  -0.44064489 -0.53289387 -0.80979546  0.23596438\n",
      "  0.38340398 -0.81318213  1.36240842 -0.65174806  0.46530162]\n",
      "Cum regret on Simulation 2450.8213121092185 \n",
      "\n",
      "OFUL simulation 2/4\n",
      "Found Theta [-0.74651615 -1.14321264  0.29732678  0.26700797 -0.01552902 -0.19558007\n",
      "  0.43628596  0.01399229  0.42523787  0.49368716  0.71855165 -0.176226\n",
      " -0.53942305  0.66867841  0.03473184 -0.17938177  0.91273076 -0.26810901\n",
      "  0.05802231 -0.75156304 -0.05123885  1.01459108 -0.53282709  0.54674154\n",
      "  0.52034735  0.07333528  0.1911799  -0.42467801 -0.09603229 -0.32010555\n",
      " -0.73194081 -0.66865764 -0.75592062  1.62126438 -0.81035859]\n",
      "Cum regret on Simulation 2633.525322714386 \n",
      "\n",
      "OFUL simulation 3/4\n",
      "Found Theta [-0.20154575  0.00088758  0.04819905 -0.32318225 -0.14654189  0.21078524\n",
      " -0.16115617 -0.05798236 -0.24508783  0.32802631  0.07773471 -0.31477796\n",
      "  0.2364455   0.05325028  0.24728615 -0.42048212 -0.02341726  0.04185972\n",
      "  0.20906027 -0.31225963 -0.12225525 -0.00953695  0.21326564 -0.25779896\n",
      "  0.18506269  0.06356433  0.03075729  0.67798407 -0.09772027  0.00820775\n",
      "  0.20593162  0.18302411 -0.33878783  0.31464256 -0.23509932]\n",
      "Cum regret on Simulation 1612.7744776925656 \n",
      "\n",
      "OFUL simulation 4/4\n",
      "Found Theta [ 0.13810139 -0.9252252  -0.92923797  0.00584703 -0.19712234 -0.69557173\n",
      "  0.64895988  0.00952798 -0.10036828  0.87747672  0.78669589 -0.0293722\n",
      "  0.26170323 -0.40754723  0.05352857 -0.55683228  0.09160485 -0.08586747\n",
      "  0.18016074  0.79056643 -0.03803985  0.39494669  0.87180956  1.63720894\n",
      " -0.45092995  0.02826185  0.11353616  0.75511346 -0.75784895  0.23333696\n",
      "  1.15775117 -1.83064756  1.02841203 -0.44058656  0.30292693]\n",
      "Cum regret on Simulation 3014.7826117858613 \n",
      "\n",
      "\n",
      "\n",
      "LinearTS simulation 1/4\n",
      "Found Theta [-0.76926427 -1.20555044  0.33580902  0.24376436 -0.03168172 -0.21078851\n",
      "  0.39690144  0.01573488  0.43007934  0.52261414  0.79123118 -0.17917985\n",
      " -0.57269958  0.68199674  0.03558097 -0.2053043   0.94371304 -0.28132274\n",
      "  0.06949621 -0.80309535 -0.0332858   1.00962482 -0.54224318  0.51264487\n",
      "  0.5772485   0.04173595  0.20987177 -0.46719499 -0.09892143 -0.34614573\n",
      " -0.77072113 -0.67354341 -0.80503877  1.64973107 -0.87969949]\n",
      "Cum regret on Simulation 9615.17874470243 \n",
      "\n",
      "LinearTS simulation 2/4\n",
      "Found Theta [ 0.20230521 -0.9444827  -0.93640963 -0.00882713 -0.18730285 -0.6958532\n",
      "  0.64075386 -0.00911885 -0.11252605  0.89971599  0.85656489 -0.01427302\n",
      "  0.39242144 -0.44315153  0.04059467 -0.55959685  0.11646024 -0.01400764\n",
      "  0.13100077  0.82943886  0.02724831  0.4348454   0.94225141  1.70768133\n",
      " -0.45379936 -0.00827934  0.0642934   0.80512328 -0.79784653  0.30388096\n",
      "  1.19029013 -1.87959052  1.05626625 -0.43024848  0.37696662]\n",
      "Cum regret on Simulation 13810.40858807399 \n",
      "\n",
      "LinearTS simulation 3/4\n",
      "Found Theta [-0.76088903 -1.20548086  0.33549616  0.2589821  -0.03127753 -0.2134257\n",
      "  0.38340154  0.00916719  0.42394293  0.5209447   0.78480612 -0.18806756\n",
      " -0.58477248  0.67960874  0.02921322 -0.19529539  0.95439837 -0.27721822\n",
      "  0.06584774 -0.80482768 -0.0386321   1.01463836 -0.5426901   0.51677877\n",
      "  0.58951569  0.05044704  0.20201129 -0.47699245 -0.08656446 -0.34084163\n",
      " -0.7792633  -0.68038408 -0.80366884  1.6553662  -0.87778291]\n",
      "Cum regret on Simulation 9659.729094657036 \n",
      "\n",
      "LinearTS simulation 4/4\n",
      "Found Theta [ 0.05665997 -0.07447011 -0.01328389 -0.04276315  0.07683952 -0.16742898\n",
      "  0.06797882 -0.06858671  0.13575193 -0.02708615 -0.22241114  0.21261418\n",
      " -0.03980405  0.18948382 -0.36389384 -0.11672475 -0.18913472 -0.7831944\n",
      " -0.13924159  0.63303349 -0.32064333 -0.54443983  0.09057082  0.8638368\n",
      " -0.54257395 -0.56000926 -0.79498057  0.24365059  0.0134121   0.34549674\n",
      " -0.76697179  0.21813019  0.3072503   0.74874446 -0.82698263]\n",
      "Cum regret on Simulation 3401.762503326709 \n",
      "\n",
      "\n",
      "\n"
     ]
    }
   ],
   "source": [
    "from mvarl_hands_on.utils.coldstart import RandomLinearArms\n",
    "\n",
    "nb_simulations = 4\n",
    "T = int(4e4)\n",
    "\n",
    "algorithms = {\n",
    "            'OFUL': lambda arm_features, bound_theta: \n",
    "              OFUL(arm_features=arm_features, reg_factor=1., delta=0.01,\n",
    "                 bound_theta=bound_theta, noise_std=config_cs['noise_std']),\n",
    "             'LinearTS': lambda arm_features, bound_theta:\n",
    "              LinearTS(arm_features=arm_features, reg_factor=1., delta=0.01,\n",
    "                 bound_theta=bound_theta, noise_std=config_cs['noise_std'], T=T)\n",
    "             }\n",
    "\n",
    "regrets = {}\n",
    "      \n",
    "for alg_name in algorithms.keys():\n",
    "    if alg_name not in regrets.keys():\n",
    "        regrets[alg_name] = np.zeros((nb_simulations, T))\n",
    "    \n",
    "    for k in range(nb_simulations):\n",
    "        if k % 1 == 0:\n",
    "            print(\"{} simulation {}/{}\".format(alg_name, k+1, nb_simulations))\n",
    "        model = ColdStartFromDataset(**config_cs)\n",
    "#        model = RandomLinearArms()\n",
    "        alg = algorithms[alg_name](arm_features=model.features, bound_theta=np.linalg.norm(model.theta))\n",
    "\n",
    "        for t in range(T):\n",
    "            action = alg.sample_action()\n",
    "            reward = model.reward(action)\n",
    "            #regrets[alg_name][k, t] =  model.features[action].dot(model.theta  - alg.theta) \n",
    "            regrets[alg_name][k, t] =  model.best_arm_reward() - reward\n",
    "            \n",
    "            alg.update(action, reward)\n",
    "            \n",
    "        print(\"Found Theta\", alg.theta)\n",
    "        print(\"Cum regret on Simulation\", np.sum(regrets[alg_name][k, :]), \"\\n\")\n",
    "    print(\"\\n\")\n"
   ]
  },
  {
   "cell_type": "code",
   "execution_count": 23,
   "metadata": {},
   "outputs": [
    {
     "name": "stdout",
     "output_type": "stream",
     "text": [
      "[[0.45704666 0.28111862 0.22976356 ... 0.0292869  0.08910811 0.13145651]\n",
      " [0.52304365 0.5046263  0.88270088 ... 0.0292869  0.08910811 0.13145651]\n",
      " [0.45704666 0.28111862 0.22976356 ... 0.0292869  0.08910811 0.13145651]\n",
      " [0.45704666 0.28111862 0.22976356 ... 0.0292869  0.08910811 0.13145651]]\n",
      "[[0.88685138 0.00317121 0.21197012 ... 0.54560096 0.59006346 1.03835023]\n",
      " [0.75109667 0.8779979  0.71741702 ... 0.03211644 0.511807   0.97792372]\n",
      " [0.60780508 0.7819988  0.34540599 ... 0.73083002 0.76585143 0.3247004 ]\n",
      " [0.85526163 0.88256521 0.01612901 ... 0.26061447 0.35791886 0.27996294]]\n"
     ]
    },
    {
     "data": {
      "text/plain": [
       "<matplotlib.legend.Legend at 0x7f85d9b1cc50>"
      ]
     },
     "execution_count": 23,
     "metadata": {},
     "output_type": "execute_result"
    },
    {
     "data": {
      "image/png": "[encoded data removed]",
      "text/plain": [
       "<Figure size 720x576 with 1 Axes>"
      ]
     },
     "metadata": {
      "needs_background": "light"
     },
     "output_type": "display_data"
    }
   ],
   "source": [
    "# With the sqrt(d) oversampling\n",
    "\n",
    "for alg_name in algorithms.keys():\n",
    "    print(regrets[alg_name])\n",
    "\n",
    "plt.figure(figsize=(10,8))\n",
    "for alg_name in regrets.keys():\n",
    "    data = np.cumsum(regrets[alg_name], axis=1)\n",
    "    n_rep, T = data.shape\n",
    "    \n",
    "    mean_regret = np.mean(data, axis=0)\n",
    "    std_regret = np.std(data, axis=0) / math.sqrt(n_rep)\n",
    "    t = np.arange(T)\n",
    "    plt.plot(t, mean_regret, label=alg_name)\n",
    "    plt.fill_between(t, mean_regret - 2 * std_regret, mean_regret + 2 * std_regret, alpha=0.15)\n",
    "plt.legend()\n",
    "    "
   ]
  },
  {
   "cell_type": "code",
   "execution_count": 26,
   "metadata": {},
   "outputs": [
    {
     "name": "stdout",
     "output_type": "stream",
     "text": [
      "[[0.52304365 0.5046263  0.88270088 ... 0.0292869  0.08910811 0.13145651]\n",
      " [0.92862863 0.02088293 0.73410453 ... 0.08702536 0.117294   0.13145651]\n",
      " [0.40876083 0.42544024 0.43944336 ... 0.0292869  0.08910811 0.13145651]\n",
      " [0.02344539 0.3102132  0.22245451 ... 0.0292869  0.08910811 0.13145651]]\n",
      "[[ 0.857452    0.72491645 -0.04909364 ...  0.22281488  0.34316868\n",
      "   0.33740783]\n",
      " [ 0.66559715  0.67991453  0.24023662 ...  0.20592529  0.2657465\n",
      "   0.65576678]\n",
      " [ 0.12458975  0.10817094  0.1872552  ...  0.07305362  0.13287483\n",
      "   1.12902338]\n",
      " [ 0.93106177  0.07470831 -0.029992   ...  0.06610027  0.16403346\n",
      "   0.2530761 ]]\n"
     ]
    },
    {
     "data": {
      "text/plain": [
       "<matplotlib.legend.Legend at 0x7f85d9b6ca10>"
      ]
     },
     "execution_count": 26,
     "metadata": {},
     "output_type": "execute_result"
    },
    {
     "data": {
      "image/png": "[encoded data removed]",
      "text/plain": [
       "<Figure size 720x576 with 1 Axes>"
      ]
     },
     "metadata": {
      "needs_background": "light"
     },
     "output_type": "display_data"
    }
   ],
   "source": [
    "# Without the sqrt(d) oversampling\n",
    "\n",
    "for alg_name in algorithms.keys():\n",
    "    print(regrets[alg_name])\n",
    "\n",
    "plt.figure(figsize=(10,8))\n",
    "for alg_name in regrets.keys():\n",
    "    data = np.cumsum(regrets[alg_name], axis=1)\n",
    "    n_rep, T = data.shape\n",
    "    \n",
    "    mean_regret = np.mean(data, axis=0)\n",
    "    std_regret = np.std(data, axis=0) / math.sqrt(n_rep)\n",
    "    t = np.arange(T)\n",
    "    plt.plot(t, mean_regret, label=alg_name)\n",
    "    plt.fill_between(t, mean_regret - 2 * std_regret, mean_regret + 2 * std_regret, alpha=0.15)\n",
    "plt.legend()\n",
    "    "
   ]
  },
  {
   "cell_type": "markdown",
   "metadata": {},
   "source": [
    "### Using the regret as $R(T) = \\sum_t \\phi_t^\\top (\\theta^\\star - \\theta_t)$"
   ]
  },
  {
   "cell_type": "code",
   "execution_count": 19,
   "metadata": {
    "colab": {},
    "colab_type": "code",
    "id": "Y1pezF4JUKKO"
   },
   "outputs": [
    {
     "name": "stdout",
     "output_type": "stream",
     "text": [
      "OFUL simulation 1/4\n",
      "Found Theta [ 0.1305862   0.45157774  0.29821793 -0.61699472 -0.37576281 -0.53055131\n",
      "  0.44220778  0.35448181 -0.17800372 -0.1467415   0.22574274 -0.19339579\n",
      "  0.12257143  0.89808631 -0.26494235 -0.18610506  0.7545364   0.28879339\n",
      " -0.23279757  0.351849   -0.30481687 -1.17246656 -0.518778   -0.48934101\n",
      "  0.1917007   0.8386118   0.534645   -0.91770871 -0.41556265 -0.20572599\n",
      "  0.85861949 -0.48642692  0.49842131  2.44311601 -1.09503052]\n",
      "Cum regret on Simulation 104.85349721012904 \n",
      "\n",
      "OFUL simulation 2/4\n",
      "Found Theta [ 0.1305862   0.45157774  0.29821793 -0.61699472 -0.37576281 -0.53055131\n",
      "  0.44220778  0.35448181 -0.17800372 -0.1467415   0.22574274 -0.19339579\n",
      "  0.12257143  0.89808631 -0.26494235 -0.18610506  0.7545364   0.28879339\n",
      " -0.23279757  0.351849   -0.30481687 -1.17246656 -0.518778   -0.48934101\n",
      "  0.1917007   0.8386118   0.534645   -0.91770871 -0.41556265 -0.20572599\n",
      "  0.85861949 -0.48642692  0.49842131  2.44311601 -1.09503052]\n",
      "Cum regret on Simulation 104.85349721012904 \n",
      "\n",
      "OFUL simulation 3/4\n",
      "Found Theta [-0.60645072  0.22335191 -0.21842612 -0.03843945  0.60733937  0.4901546\n",
      " -0.61968913 -0.51813289  0.30198906 -1.03815053 -0.20700906  0.32270951\n",
      " -0.12538028  0.36258655  0.22527022  0.0291874   0.54431106 -0.16053437\n",
      "  0.36817236 -0.01325809 -0.28738886  0.61690803  0.65478645 -0.05555456\n",
      " -0.54890699 -0.7172231   0.04226505  1.02310959  0.08740942  0.93097853\n",
      " -0.16409842  0.64139056 -0.55448583 -0.20933394 -0.06074898]\n",
      "Cum regret on Simulation 59.303614581933694 \n",
      "\n",
      "OFUL simulation 4/4\n",
      "Found Theta [-0.60645072  0.22335191 -0.21842612 -0.03843945  0.60733937  0.4901546\n",
      " -0.61968913 -0.51813289  0.30198906 -1.03815053 -0.20700906  0.32270951\n",
      " -0.12538028  0.36258655  0.22527022  0.0291874   0.54431106 -0.16053437\n",
      "  0.36817236 -0.01325809 -0.28738886  0.61690803  0.65478645 -0.05555456\n",
      " -0.54890699 -0.7172231   0.04226505  1.02310959  0.08740942  0.93097853\n",
      " -0.16409842  0.64139056 -0.55448583 -0.20933394 -0.06074898]\n",
      "Cum regret on Simulation 59.303614581933694 \n",
      "\n",
      "\n",
      "\n",
      "LinearTS simulation 1/4\n",
      "Found Theta [ 0.14807198  0.44141939  0.28074257 -0.6735886  -0.37453773 -0.53140707\n",
      "  0.48123251  0.34770891 -0.17612145 -0.1953114   0.23231554 -0.17671782\n",
      "  0.09393829  0.90533343 -0.21354807 -0.17021601  0.82490755  0.25865964\n",
      " -0.27896162  0.35113152 -0.2830114  -1.21575431 -0.49439888 -0.48305001\n",
      "  0.15356377  0.91797593  0.56297841 -0.92823282 -0.4558935  -0.24601878\n",
      "  0.8864393  -0.52590893  0.58017211  2.59140164 -1.06547738]\n",
      "Cum regret on Simulation 57.40090576327289 \n",
      "\n",
      "LinearTS simulation 2/4\n",
      "Found Theta [-0.21022338  0.00288232  0.06334249 -0.32444843 -0.17824552  0.19596884\n",
      " -0.17311114 -0.06506249 -0.27591572  0.30511455  0.08401287 -0.31513264\n",
      "  0.22226491  0.04403525  0.22326725 -0.4382641  -0.02807721  0.05558393\n",
      "  0.20421169 -0.29282544 -0.12516505 -0.01860656  0.18012427 -0.27397644\n",
      "  0.18100178  0.06952895  0.03491172  0.66119624 -0.09123627 -0.01668118\n",
      "  0.2061674   0.1555922  -0.3591705   0.17032795 -0.51699804]\n",
      "Cum regret on Simulation 28.982801394697226 \n",
      "\n",
      "LinearTS simulation 3/4\n",
      "Found Theta [-0.2171046   0.00461074  0.06613211 -0.32602659 -0.17490863  0.20281406\n",
      " -0.16867317 -0.06434331 -0.27283459  0.30798288  0.08368516 -0.31386077\n",
      "  0.22014951  0.04595471  0.22392972 -0.43930322 -0.02940806  0.05235619\n",
      "  0.20694115 -0.2922232  -0.12899288 -0.01660053  0.18197387 -0.28027773\n",
      "  0.17041292  0.06604752  0.04162223  0.67122423 -0.10100964 -0.00776673\n",
      "  0.20742764  0.16273942 -0.3630264   0.18713618 -0.49047955]\n",
      "Cum regret on Simulation 22.68516917132627 \n",
      "\n",
      "LinearTS simulation 4/4\n",
      "Found Theta [-0.21468178 -0.0030755   0.07059999 -0.32787098 -0.17051643  0.19531552\n",
      " -0.17131993 -0.06602643 -0.28444965  0.30406156  0.07843642 -0.31449558\n",
      "  0.21938893  0.0472364   0.22167751 -0.4392889  -0.02103252  0.05161071\n",
      "  0.20289313 -0.29359638 -0.12954473 -0.01418686  0.18172888 -0.27544194\n",
      "  0.17553001  0.06834277  0.03546731  0.67478972 -0.09449702 -0.0125098\n",
      "  0.19822624  0.16919078 -0.35925034  0.21951528 -0.42586447]\n",
      "Cum regret on Simulation 21.101199367686956 \n",
      "\n",
      "\n",
      "\n"
     ]
    }
   ],
   "source": [
    "from mvarl_hands_on.utils.coldstart import RandomLinearArms\n",
    "\n",
    "nb_simulations = 4\n",
    "T = int(4e4)\n",
    "\n",
    "algorithms = {\n",
    "            'OFUL': lambda arm_features, bound_theta: \n",
    "              OFUL(arm_features=arm_features, reg_factor=1., delta=0.01,\n",
    "                 bound_theta=bound_theta, noise_std=config_cs['noise_std']),\n",
    "             'LinearTS': lambda arm_features, bound_theta:\n",
    "              LinearTS(arm_features=arm_features, reg_factor=1., delta=0.01,\n",
    "                 bound_theta=bound_theta, noise_std=config_cs['noise_std'], T=T)\n",
    "             }\n",
    "\n",
    "regrets = {}\n",
    "      \n",
    "for alg_name in algorithms.keys():\n",
    "    if alg_name not in regrets.keys():\n",
    "        regrets[alg_name] = np.zeros((nb_simulations, T))\n",
    "    \n",
    "    for k in range(nb_simulations):\n",
    "        if k % 1 == 0:\n",
    "            print(\"{} simulation {}/{}\".format(alg_name, k+1, nb_simulations))\n",
    "        model = ColdStartFromDataset(**config_cs)\n",
    "#        model = RandomLinearArms()\n",
    "        alg = algorithms[alg_name](arm_features=model.features, bound_theta=np.linalg.norm(model.theta))\n",
    "\n",
    "        for t in range(T):\n",
    "            action = alg.sample_action()\n",
    "            reward = model.reward(action)\n",
    "            regrets[alg_name][k, t] =  model.features[action].dot(model.theta  - alg.theta) \n",
    "            #regrets[alg_name][k, t] =  model.best_arm_reward() - reward\n",
    "            \n",
    "            alg.update(action, reward)\n",
    "            \n",
    "        print(\"Found Theta\", alg.theta)\n",
    "        print(\"Cum regret on Simulation\", np.sum(regrets[alg_name][k, :]), \"\\n\")\n",
    "    print(\"\\n\")\n"
   ]
  },
  {
   "cell_type": "code",
   "execution_count": 17,
   "metadata": {
    "colab": {},
    "colab_type": "code",
    "id": "vz5uoLmvUKKP"
   },
   "outputs": [
    {
     "name": "stdout",
     "output_type": "stream",
     "text": [
      "[[-2.04311916e+00  9.39978692e-02 -1.12437477e-01 ...  7.65823355e-04\n",
      "   7.67027541e-04  7.70757225e-04]\n",
      " [-3.24421457e-01  6.69435367e-01  6.23759894e-01 ...  9.88408681e-04\n",
      "  -2.90023796e-04 -5.89247177e-04]\n",
      " [-6.20784554e-01  5.18994867e-01  4.21812896e-01 ...  7.13908767e-05\n",
      "   7.24509717e-05  7.56815444e-05]\n",
      " [-1.03107847e+00  8.05251611e-01 -1.02192506e-01 ... -1.46994353e-03\n",
      "   4.44322291e-04 -1.46359302e-03]]\n",
      "[[-0.16409536 -0.06662093  0.25398101 ...  0.00212126  0.0012186\n",
      "   0.00311387]\n",
      " [-0.74123959  0.31551079  0.49228547 ...  0.00231246 -0.00415573\n",
      "   0.00169753]\n",
      " [ 0.11581201  0.05261015  0.5000881  ... -0.00384942 -0.00496693\n",
      "   0.00453207]\n",
      " [-0.57309183  0.14088574  0.10571218 ... -0.0015279  -0.00587991\n",
      "  -0.00239999]]\n"
     ]
    },
    {
     "data": {
      "text/plain": [
       "<matplotlib.legend.Legend at 0x7f85d8ef8990>"
      ]
     },
     "execution_count": 17,
     "metadata": {},
     "output_type": "execute_result"
    },
    {
     "data": {
      "image/png": "[encoded data removed]",
      "text/plain": [
       "<Figure size 720x576 with 1 Axes>"
      ]
     },
     "metadata": {
      "needs_background": "light"
     },
     "output_type": "display_data"
    }
   ],
   "source": [
    "# With the sqrt(d) oversampling\n",
    "\n",
    "for alg_name in algorithms.keys():\n",
    "    print(regrets[alg_name])\n",
    "\n",
    "plt.figure(figsize=(10,8))\n",
    "for alg_name in regrets.keys():\n",
    "    data = np.cumsum(regrets[alg_name], axis=1)\n",
    "    n_rep, T = data.shape\n",
    "    \n",
    "    mean_regret = np.mean(data, axis=0)\n",
    "    std_regret = np.std(data, axis=0) / math.sqrt(n_rep)\n",
    "    t = np.arange(T)\n",
    "    plt.plot(t, mean_regret, label=alg_name)\n",
    "    plt.fill_between(t, mean_regret - 2 * std_regret, mean_regret + 2 * std_regret, alpha=0.15)\n",
    "plt.legend()\n",
    "    "
   ]
  },
  {
   "cell_type": "code",
   "execution_count": 20,
   "metadata": {},
   "outputs": [
    {
     "name": "stdout",
     "output_type": "stream",
     "text": [
      "[[-1.90943597e-01  6.39651282e-01  5.93941537e-03 ...  5.08678734e-04\n",
      "   5.11369302e-04  1.64111884e-03]\n",
      " [-1.90943597e-01  6.39651282e-01  5.93941537e-03 ...  5.08678734e-04\n",
      "   5.11369302e-04  1.64111884e-03]\n",
      " [ 2.71661430e-01  6.18299759e-01  5.02924444e-01 ... -3.75256494e-04\n",
      "  -3.74182128e-04 -3.70941188e-04]\n",
      " [ 2.71661430e-01  6.18299759e-01  5.02924444e-01 ... -3.75256494e-04\n",
      "  -3.74182128e-04 -3.70941188e-04]]\n",
      "[[ 7.38127938e-01  9.08672557e-01 -6.51769106e-02 ... -1.29763369e-03\n",
      "   4.56714196e-03  7.23842476e-04]\n",
      " [ 3.00574207e-01  4.26420714e-01  5.46641341e-01 ...  1.72490996e-03\n",
      "   4.71793389e-03  1.74766492e-03]\n",
      " [-1.97675612e+00  5.11840079e-01  4.55678027e-01 ... -1.00214502e-03\n",
      "   2.12430798e-02  1.51304434e-03]\n",
      " [-7.31670185e-01  1.91185889e-01  3.21575612e-01 ... -9.19306118e-04\n",
      "   1.90815136e-03 -6.94968546e-04]]\n"
     ]
    },
    {
     "data": {
      "text/plain": [
       "<matplotlib.legend.Legend at 0x7f85d8e19f90>"
      ]
     },
     "execution_count": 20,
     "metadata": {},
     "output_type": "execute_result"
    },
    {
     "data": {
      "image/png": "[encoded data removed]",
      "text/plain": [
       "<Figure size 720x576 with 1 Axes>"
      ]
     },
     "metadata": {
      "needs_background": "light"
     },
     "output_type": "display_data"
    }
   ],
   "source": [
    "# Without the sqrt(d) oversampling\n",
    "\n",
    "for alg_name in algorithms.keys():\n",
    "    print(regrets[alg_name])\n",
    "\n",
    "plt.figure(figsize=(10,8))\n",
    "for alg_name in regrets.keys():\n",
    "    data = np.cumsum(regrets[alg_name], axis=1)\n",
    "    n_rep, T = data.shape\n",
    "    \n",
    "    mean_regret = np.mean(data, axis=0)\n",
    "    std_regret = np.std(data, axis=0) / math.sqrt(n_rep)\n",
    "    t = np.arange(T)\n",
    "    plt.plot(t, mean_regret, label=alg_name)\n",
    "    plt.fill_between(t, mean_regret - 2 * std_regret, mean_regret + 2 * std_regret, alpha=0.15)\n",
    "plt.legend()\n",
    "    "
   ]
  }
 ],
 "metadata": {
  "colab": {
   "collapsed_sections": [],
   "name": "MVARL19_part3.ipynb",
   "private_outputs": true,
   "provenance": []
  },
  "kernelspec": {
   "display_name": "Python 3",
   "language": "python",
   "name": "python3"
  },
  "language_info": {
   "codemirror_mode": {
    "name": "ipython",
    "version": 3
   },
   "file_extension": ".py",
   "mimetype": "text/x-python",
   "name": "python",
   "nbconvert_exporter": "python",
   "pygments_lexer": "ipython3",
   "version": "3.7.5"
  }
 },
 "nbformat": 4,
 "nbformat_minor": 1
}
