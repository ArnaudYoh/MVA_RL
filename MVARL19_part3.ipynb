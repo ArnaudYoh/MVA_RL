{
 "cells": [
  {
   "cell_type": "markdown",
   "metadata": {
    "colab_type": "text",
    "id": "rly7ZGiyUKJ6"
   },
   "source": [
    "# Exploration in Linear Bandits\n",
    "\n",
    "The objective of this part is to implement and compare the following strategies for linear bandits:\n",
    "\n",
    "[Optimism in the Face of Uncertainty (LinUCB/OFUL)](https://papers.nips.cc/paper/4417-improved-algorithms-for-linear-stochastic-bandits.pdf)\n",
    "\n",
    "[Thompson Sampling](https://projecteuclid.org/euclid.ejs/1513306870)"
   ]
  },
  {
   "cell_type": "markdown",
   "metadata": {
    "colab_type": "text",
    "id": "infCxpaRA0XC"
   },
   "source": [
    "## Linear bandit\n",
    "We consider the standard linear bandit setting. At each time $t$, the agent selects an arm $a_t \\in A$ and observes a reward\n",
    "$$\n",
    "r_{a}^t = \\langle \\theta^\\star, \\phi_a^t \\rangle + \\eta_a^t := \\mu_a^t + \\eta_a^t\n",
    "$$\n",
    "where $\\theta^{\\star} \\in \\mathbb{R}^{d}$ is a parameter vector, $\\phi_{a}^t \\in \\mathbb{R}^{d} $ are the features of arm $a$ at time $t$, and $\\eta_{a}^{t}$ is a zero-mean  $\\sigma^2$-subgaussian noise. \n",
    "\n",
    "When the features correspond to the canonical basis, this formulation reduces to multi-armed bandit (MAB) with $d$ arms. In the more general case, the features may depend on a context $x_t$, so that $\\phi_a^t = \\phi(x_t, a)$ denotes the feature vector of a context-action pair $(x_t, a)$ and the resulting setting is the so-called linear contextual bandit.\n",
    "\n",
    "We rely on the following standard assumption on the features and the unknown parameter $\\theta^\\star$.\n",
    "\n",
    "**Assumption.** There exist $B,D \\geq 0$, such that $\\|\\theta^\\star\\|_2 \\leq B$, $\\|\\phi_a^t\\| \\leq D$, and $\\langle \\theta^\\star, \\phi_a^t \\rangle \\in [0,1]$, for all $t$ and $a$.\n",
    "\n",
    "Given a finite horizon $n$, the performance of the agent is measured by its (pseudo)-*regret*:\n",
    "$$\n",
    "        %R(n) = n \\mu^{\\star} - \\sum_{t=1}^n \\mu_{a_t} = \\sum_{i=1}^K T_i(n) \\Delta_i, \n",
    "        R(n) = \\sum_{t=1}^n \\langle \\theta^\\star, \\phi_{a^\\star}^t \\rangle - \\langle \\theta^\\star, \\phi_{a_t}^t \\rangle ,\n",
    "$$\n",
    "where $a^{\\star}_{t} \\in \\arg\\max_{a} \\langle \\theta^\\star, \\phi_{a}^t \\rangle$ is the optimal action at time $t$.\n",
    "\n",
    "**We consider the simple linear bandit setting:** $\\phi_a^t = \\phi_a, \\; \\forall t$\n",
    "\n",
    "\n"
   ]
  },
  {
   "cell_type": "code",
   "execution_count": 1,
   "metadata": {
    "colab": {},
    "colab_type": "code",
    "id": "SlwPdLAwUWfI"
   },
   "outputs": [
    {
     "name": "stdout",
     "output_type": "stream",
     "text": [
      "Cloning into 'mvarl_hands_on'...\n",
      "remote: Enumerating objects: 39, done.\u001b[K\n",
      "remote: Counting objects: 100% (39/39), done.\u001b[K\n",
      "remote: Compressing objects: 100% (27/27), done.\u001b[K\n",
      "remote: Total 39 (delta 14), reused 37 (delta 12), pack-reused 0\u001b[K\n",
      "Unpacking objects: 100% (39/39), done.\n",
      "cliffwalk.py  discretization.py  frozen_lake.py  test_env.py\n",
      "coldstart.py  finite_env.py\t gridworld.py\n"
     ]
    }
   ],
   "source": [
    "!rm -rf mvarl_hands_on/\n",
    "!git clone https://github.com/rlgammazero/mvarl_hands_on.git\n",
    "!cd mvarl_hands_on/ && git fetch\n",
    "!ls mvarl_hands_on/utils"
   ]
  },
  {
   "cell_type": "code",
   "execution_count": 2,
   "metadata": {
    "colab": {},
    "colab_type": "code",
    "id": "wWQOcbHbUKJ8"
   },
   "outputs": [],
   "source": [
    "import sys\n",
    "sys.path.insert(0, './mvarl_hands_on/utils')\n",
    "import os\n",
    "import numpy as np\n",
    "from pprint import pprint\n",
    "from scipy.sparse.linalg import svds\n",
    "import matplotlib.pyplot as plt\n",
    "from scipy.stats import multivariate_normal\n",
    "import math\n",
    "from tqdm import tqdm"
   ]
  },
  {
   "cell_type": "code",
   "execution_count": 3,
   "metadata": {},
   "outputs": [],
   "source": [
    "from mvarl_hands_on.utils.coldstart import ColdStartFromDataset"
   ]
  },
  {
   "cell_type": "markdown",
   "metadata": {
    "colab_type": "text",
    "id": "78oy9izEUKKA"
   },
   "source": [
    "#### Jester Jokes Dataset (Dense subset of 40 jokes)\n",
    "\n",
    "Deep Bayesian Bandits Showdown: An Empirical Comparison of Bayesian Deep Networks for Thompson Sampling\n",
    "\n",
    "Download the data at: https://storage.googleapis.com/bandits_datasets/jester_data_40jokes_19181users.npy\n",
    "\n",
    "We performed a matrix factorization of the ratings (after filtering over users and jokes). This provides features for the arms and users, the reward (ie rating) is the dot product between the arm and user features (we make it stochastic by adding Gaussian noise). We consider a cold start problem where the user is randomly selected at the beginning of the repetition and the agent has to learn the best arm to recommend. When an arm is selected by the algorithm, its reward is computed as the dot product between the arm and user features."
   ]
  },
  {
   "cell_type": "code",
   "execution_count": 4,
   "metadata": {
    "colab": {},
    "colab_type": "code",
    "id": "HW1YAyl1UKKB"
   },
   "outputs": [],
   "source": [
    "#!wget https://storage.googleapis.com/bandits_datasets/jester_data_40jokes_19181users.npy"
   ]
  },
  {
   "cell_type": "code",
   "execution_count": 5,
   "metadata": {
    "colab": {},
    "colab_type": "code",
    "id": "7ZsqokZKUKKD"
   },
   "outputs": [
    {
     "name": "stdout",
     "output_type": "stream",
     "text": [
      "U: (19181, 35)\n",
      "Vt: (35, 40)\n",
      "#features: 35\n",
      "#arms: 40\n"
     ]
    }
   ],
   "source": [
    "M = np.load('jester_data_40jokes_19181users.npy')\n",
    "M = M / 10\n",
    "K = 35\n",
    "U, s, Vt = svds(M, k = K)\n",
    "s=np.diag(s)\n",
    "U = np.dot(U,s)\n",
    "print('U: {}'.format(U.shape))\n",
    "print('Vt: {}'.format(Vt.shape))\n",
    "print('#features: {}'.format(Vt.shape[0]))\n",
    "print('#arms: {}'.format(Vt.shape[1]))\n",
    "np.savetxt('U_jester.csv', U, delimiter=',') \n",
    "np.savetxt('Vt_jester.csv', Vt, delimiter=',') "
   ]
  },
  {
   "cell_type": "markdown",
   "metadata": {
    "colab_type": "text",
    "id": "VmQdkpc-UKKF"
   },
   "source": [
    "Create the coldstart model"
   ]
  },
  {
   "cell_type": "code",
   "execution_count": 6,
   "metadata": {
    "colab": {},
    "colab_type": "code",
    "id": "fDXGgf-HUKKF"
   },
   "outputs": [
    {
     "name": "stdout",
     "output_type": "stream",
     "text": [
      "Current config is:\n",
      "{'arm_csvfile': '/home/naunauyoh/PycharmProjects/MVA_RL/Vt_jester.csv',\n",
      " 'noise_std': 0.1,\n",
      " 'random_state': 1235,\n",
      " 'user_csvfile': '/home/naunauyoh/PycharmProjects/MVA_RL/U_jester.csv',\n",
      " 'user_subset': [0, 44, 88, 133, 177, 222, 266, 311, 355, 400]}\n"
     ]
    }
   ],
   "source": [
    "seed = 1235\n",
    "user_subset = np.linspace(0, 400, 10).astype(int).tolist()\n",
    "arm_csvfile = os.path.abspath('Vt_jester.csv')\n",
    "user_csvfile = os.path.abspath('U_jester.csv')\n",
    "noise_std = 0.1\n",
    "\n",
    "config_cs = {\n",
    "    'arm_csvfile': arm_csvfile,\n",
    "    'user_csvfile': user_csvfile,\n",
    "    'random_state': seed,\n",
    "    'user_subset': user_subset,\n",
    "    'noise_std': noise_std\n",
    "}\n",
    "\n",
    "print(\"Current config is:\")\n",
    "pprint(config_cs)\n"
   ]
  },
  {
   "cell_type": "code",
   "execution_count": 7,
   "metadata": {
    "colab": {},
    "colab_type": "code",
    "id": "cjPeT4LLUKKH"
   },
   "outputs": [
    {
     "name": "stdout",
     "output_type": "stream",
     "text": [
      "\n",
      "The new user arriving to the system is user # 222\n",
      "\n",
      "Theta*:  [ 0.60768701  0.22282253 -0.22643899  0.02040195  0.59490395  0.44860969\n",
      " -0.6017342   0.51336444 -0.33916609  1.08450089  0.19933839  0.31922471\n",
      "  0.14813868  0.33235693  0.1490287  -0.03148608 -0.52536238  0.15506547\n",
      " -0.35049923 -0.04381107 -0.30580771  0.6075547  -0.7093192  -0.12169536\n",
      " -0.59119731  0.751896   -0.12526202  0.96516389  0.15991881  0.95369292\n",
      "  0.13907613  0.49802877  0.50969068 -1.1405248   1.99847038]\n",
      "\n",
      "Means:  [0.03166748 1.         0.7812777  0.86211556 0.47401511 0.78737614\n",
      " 0.7220526  0.53701573 0.35024036 0.71579278 0.81149121 0.1887264\n",
      " 0.78713313 0.88226533 0.02188491 0.62244738 0.74552921 0.44693205\n",
      " 0.57882853 0.63138315 0.01585463 0.48629039 0.7895057  0.83992301\n",
      " 0.77264996 0.69231019 0.6554525  0.65802771 0.74321219 0.7367446\n",
      " 0.69337476 0.36425563 0.02093084 0.75762399 0.42779578 0.74545807\n",
      " 0.73585842 0.67338801 0.         0.70343108]\n",
      "\n",
      "Theta bound:  3.6420157245628464\n"
     ]
    }
   ],
   "source": [
    "noise = 0.2\n",
    "random_state = 312\n",
    "model = ColdStartFromDataset(**config_cs)\n",
    "print(\"\\nThe new user arriving to the system is user #\", model.theta_idx)\n",
    "print(\"\\nTheta*: \", model.theta)\n",
    "means = np.dot(model.features, model.theta)\n",
    "print(\"\\nMeans: \", means)\n",
    "theta_bound = np.linalg.norm(model.theta, 2)\n",
    "print(\"\\nTheta bound: \", theta_bound)"
   ]
  },
  {
   "cell_type": "markdown",
   "metadata": {
    "colab_type": "text",
    "id": "6KUmWBFlUKKJ"
   },
   "source": [
    "**Question 1**: implement LinUCB"
   ]
  },
  {
   "cell_type": "markdown",
   "metadata": {
    "colab_type": "text",
    "id": "G45BzTW_J4Gr"
   },
   "source": [
    "### LinUCB / OFUL\n",
    "See the slides!\n",
    "\n",
    "Note that it is not necessary to invert the matrix $A_t$ at each round. Since $A_t$ is obtained from a rank-1 update of $A_{t-1}$, it is possible to use Sherman–Morrison formula to build directly $A_t^{-1}$.\n",
    "\n",
    "Suppose $𝐴$ be a nonsingular $n\\times n$ matrix and $\\mathbf{u}, \\mathbf{v}$ be vectors. Then\n",
    "$$\n",
    "(A+\\mathbf{u}\\mathbf{v}^T)^{-1} = A^{-1} - \\frac{A^{-1}\\mathbf{u}\\mathbf{v}^TA^{-1}}{1+\\mathbf{v}^TA^{-1}\\mathbf{u}}.\n",
    "$$"
   ]
  },
  {
   "cell_type": "code",
   "execution_count": 8,
   "metadata": {
    "colab": {},
    "colab_type": "code",
    "id": "AxRC2xoAUKKJ"
   },
   "outputs": [],
   "source": [
    "class OFUL:\n",
    "    def __init__(self, arm_features, reg_factor, delta,\n",
    "                 bound_theta, noise_std):\n",
    "        \n",
    "        self.arm_features = arm_features\n",
    "        self.reg_factor = reg_factor\n",
    "        self.delta = delta\n",
    "        self.iteration = 0\n",
    "        self.bound_theta = bound_theta\n",
    "        self.bound_features = np.max(np.sqrt(np.sum(np.abs(arm_features) ** 2, axis=1)))\n",
    "        self.noise_std = noise_std\n",
    "        \n",
    "        self.A = np.eye(self.n_features)\n",
    "        self.A_inv = np.eye(self.n_features)\n",
    "        self.b = np.zeros(self.n_features)\n",
    "        self.theta = np.ones(self.n_features)\n",
    "\n",
    "        self.reset()\n",
    "\n",
    "    @property\n",
    "    def n_actions(self):\n",
    "        return self.arm_features.shape[0]\n",
    "\n",
    "    @property\n",
    "    def n_features(self):\n",
    "        return self.arm_features.shape[1]\n",
    "    \n",
    "    def reset(self):\n",
    "        \"\"\"Return the internal estimates\n",
    "        \n",
    "        Not sure about the naming of this function ... \n",
    "        I followed the description rather than the function naming\n",
    "        \"\"\"\n",
    "        estimates = []\n",
    "        for arm_feature in self.arm_features:\n",
    "            estimates.append(arm_feature.dot(self.theta))\n",
    "        \n",
    "        return np.array(estimates)\n",
    "        \n",
    "    def alpha(self): #def alpha(self, n_samples):\n",
    "        # TODO \n",
    "        # remove the n_samples (?) as it seems equivalent to self.iteration\n",
    "        \n",
    "        regularization = np.sqrt(self.reg_factor) * self.bound_theta\n",
    "        alpha_weight = np.sqrt(self.n_features * np.log(\n",
    "            (1 + self.iteration * self.bound_features / self.reg_factor) \n",
    "            / self.delta))\n",
    "        \n",
    "        return self.noise_std * alpha_weight + regularization\n",
    "        \n",
    "    def sample_action(self):\n",
    "        \"\"\"Return the action to play based on current estimates\n",
    "        \"\"\"\n",
    "        self.iteration += 1\n",
    "        action = None\n",
    "        val = None\n",
    "        estimates = self.reset()\n",
    "        for i, estimate in enumerate(estimates):\n",
    "            B = estimate + self.alpha() * np.sqrt(self.arm_features[i].dot(self.A_inv).dot(self.arm_features[i]))\n",
    "            if action is None or val < B:\n",
    "                action = i\n",
    "                val = B\n",
    "        return action\n",
    "    \n",
    "    def update(self, a_t, r_t):\n",
    "        \"\"\"Update the estimates of the model\n",
    "        \n",
    "\n",
    "        Parameters\n",
    "        ----------\n",
    "        a_t: int\n",
    "            The action played at the current episode\n",
    "        r_t: float\n",
    "            The reward associated to action a_t\n",
    "\n",
    "        Returns\n",
    "        -------\n",
    "        none\n",
    "        \"\"\"\n",
    "        features = self.arm_features[a_t]\n",
    "        self.A += np.outer(features, features)\n",
    "        \n",
    "        self.b += r_t*features\n",
    "        \n",
    "        self.A_inv = self.A_inv - self.A_inv.dot(np.outer(features,features)).dot(self.A_inv) / \\\n",
    "            (1 + features.dot(self.A_inv).dot(features))\n",
    "        \n",
    "        self.theta = self.A_inv.dot(self.b)\n",
    "\n",
    "        "
   ]
  },
  {
   "cell_type": "markdown",
   "metadata": {
    "colab_type": "text",
    "id": "OtwYcKlrK6UP"
   },
   "source": [
    "**Question 2:** implement LinearTS"
   ]
  },
  {
   "cell_type": "markdown",
   "metadata": {
    "colab_type": "text",
    "id": "9xl29-B3MEOC"
   },
   "source": [
    "Let $A_t$ be the design matrix, $\\theta_t$ the estimate of $\\theta^\\star$ and $\\beta_t$ the confidence interval built by LinUCB. Then, at every time step t,  LinearTS simply generates\n",
    "a sample $\\tilde{\\theta}_t$ from the distribution $\\mathcal{N}(\\widehat{\\theta}_t, \\omega_t \\alpha_t^2 A_t^{-1})$.\n",
    "\n",
    "LinearTS\n",
    "\n",
    "For $t=1, \\ldots, T$\n",
    "> $\\tilde{\\theta}_t \\sim \\mathcal{N}(\\widehat{\\theta}_t, \\omega_t \\alpha_t^2 A_t^{-1})$\n",
    ">\n",
    "> $a_t \\in \\arg\\max_{a \\in \\mathcal{A}_t}  \\langle \\tilde{\\theta}_t, \\phi_{a} \\rangle$\n",
    ">\n",
    "> observe reward $r_t$\n",
    "\n",
    "TS is requires to draw $\\tilde{\\theta}_t$ from a distribution over-sampling by a factor $\\sqrt{d}$ the ellipsoid constructed by OFUL (i.e., $\\omega_t = d$). This is required to prove that LinearTS is optimistic with a fix probability. This is necessary to prove the frequentist regret of TS. The regret of TS is worse than the one of LinUCB by a factor $\\sqrt{d}$ (i.e., $\\widetilde{O}(d^{3/2}\\sqrt{T})$)"
   ]
  },
  {
   "cell_type": "code",
   "execution_count": 9,
   "metadata": {
    "colab": {},
    "colab_type": "code",
    "id": "zTJh0yqgUKKM"
   },
   "outputs": [],
   "source": [
    "class LinearTS(OFUL):\n",
    "    def __init__(self, arm_features, reg_factor, delta,\n",
    "                 bound_theta, noise_std, T):\n",
    "        super(LinearTS, self).__init__(arm_features, reg_factor, delta,\n",
    "                 bound_theta, noise_std)\n",
    "   \n",
    "        self.delta = delta / (4*T)\n",
    "    \n",
    "    \n",
    "    def alpha(self): \n",
    "        # TODO \n",
    "        \n",
    "        regularization = np.sqrt(self.reg_factor) * self.bound_theta\n",
    "        alpha_weight = np.sqrt(2 * self.n_features * \n",
    "                               np.log(\n",
    "                                   np.sqrt(((self.reg_factor + self.iteration) / self.reg_factor ) ** (self.n_features)) / \\\n",
    "                                   (self.delta)\n",
    "                               )\n",
    "                              )\n",
    "        \n",
    "        return self.noise_std * alpha_weight + regularization\n",
    "    \n",
    "    def reset(self):\n",
    "        \"\"\"Return the internal estimates\n",
    "        \n",
    "        Not sure about the naming of this function ... \n",
    "        I followed the description rather than the function naming\n",
    "        \"\"\"\n",
    "        estimates = []\n",
    "        sample_theta = np.random.multivariate_normal(self.theta, self.n_features *  self.alpha() ** 2 * self.A_inv) \n",
    "        for arm_feature in self.arm_features:\n",
    "            estimates.append(arm_feature.dot(sample_theta))\n",
    "        \n",
    "        return np.array(estimates)\n",
    "    \n",
    "    def sample_action(self):\n",
    "        \"\"\"Return the action to play based on current estimates\n",
    "        \"\"\"\n",
    "        self.iteration += 1\n",
    "        estimates = self.reset()\n",
    "        action = np.argmax(estimates)\n",
    "        return action\n",
    "    \n",
    "    #update is the same as LinUCB so no need to redefine\n",
    "        "
   ]
  },
  {
   "cell_type": "markdown",
   "metadata": {
    "colab_type": "text",
    "id": "kKERx2_UUKKN"
   },
   "source": [
    "**Question 3**: run the algorithms (`LinUCB` and `LinearTS`) and average the performance over multiple users (ie simulations)\n",
    "\n",
    "The regret $R(T) = \\sum_t \\phi_t^\\top (\\theta^\\star - \\theta_t)$\n",
    "\n",
    "The performance is the expected regret over multiple users. You can also test `LinearTS` without the additional $\\sqrt{d}$."
   ]
  },
  {
   "cell_type": "markdown",
   "metadata": {
    "colab_type": "text",
    "id": "urKPGY9vXxRn"
   },
   "source": [
    "You can use `RandomLinearArms` to test your code before using Jester"
   ]
  },
  {
   "cell_type": "code",
   "execution_count": 10,
   "metadata": {
    "colab": {},
    "colab_type": "code",
    "id": "Y1pezF4JUKKO"
   },
   "outputs": [
    {
     "name": "stdout",
     "output_type": "stream",
     "text": [
      "OFUL simulation 1/4\n",
      "Found Theta [ 0.74124423 -1.16227072  0.3196336  -0.26825221 -0.01926262 -0.21298744\n",
      "  0.41106787  0.01046206 -0.42624687 -0.4965409  -0.7417173  -0.16176469\n",
      "  0.56057947  0.65727316  0.02892148  0.19652477 -0.90885757  0.27805805\n",
      " -0.0750468  -0.76194002 -0.04888896  1.00225263  0.5342854   0.54804873\n",
      "  0.52273569 -0.05732586 -0.18575129 -0.42206769 -0.10414483 -0.32395974\n",
      "  0.74758641 -0.65740816  0.75368098  1.63621134  0.7908934 ]\n",
      "Cum regret on Simulation 69.04500201609937 \n",
      "\n",
      "OFUL simulation 2/4\n",
      "Found Theta [ 0.60529266  0.19492531 -0.2170043   0.0165095   0.61745279  0.46333757\n",
      " -0.62756067  0.51505081 -0.281186    0.9937418   0.21792074  0.29927988\n",
      "  0.12170002  0.33010006  0.21540188 -0.01131567 -0.54082187  0.16585752\n",
      " -0.35827814 -0.02110327 -0.2664496   0.59500046 -0.63264476 -0.04692356\n",
      " -0.55913832  0.70279266 -0.03668876  1.02377681  0.08151159  0.91488976\n",
      "  0.16547033  0.6513084   0.54904689 -0.21266142  0.06107544]\n",
      "Cum regret on Simulation 86.26628604929186 \n",
      "\n",
      "OFUL simulation 3/4\n",
      "Found Theta [ 0.74124423 -1.16227072  0.3196336  -0.26825221 -0.01926262 -0.21298744\n",
      "  0.41106787  0.01046206 -0.42624687 -0.4965409  -0.7417173  -0.16176469\n",
      "  0.56057947  0.65727316  0.02892148  0.19652477 -0.90885757  0.27805805\n",
      " -0.0750468  -0.76194002 -0.04888896  1.00225263  0.5342854   0.54804873\n",
      "  0.52273569 -0.05732586 -0.18575129 -0.42206769 -0.10414483 -0.32395974\n",
      "  0.74758641 -0.65740816  0.75368098  1.63621134  0.7908934 ]\n",
      "Cum regret on Simulation 69.04500201609937 \n",
      "\n",
      "OFUL simulation 4/4\n",
      "Found Theta [ 0.19493425 -0.00839317  0.0612741   0.32221432 -0.13379146  0.21013143\n",
      " -0.16303369  0.06073734  0.27492934 -0.33409612 -0.06318799 -0.29572237\n",
      " -0.2149274   0.05141562  0.21562791  0.44381968  0.02768204 -0.03985588\n",
      " -0.20786934 -0.28721671 -0.09862852 -0.0024428  -0.19968947 -0.28024745\n",
      "  0.17585283 -0.04692494 -0.03630238  0.69433028 -0.11077495  0.00685985\n",
      " -0.20514382  0.19295165  0.34979312  0.33894567  0.23277915]\n",
      "Cum regret on Simulation 18.039756799051766 \n",
      "\n",
      "\n",
      "\n",
      "LinearTS simulation 1/4\n",
      "Found Theta [-0.45025739  0.08579363 -0.08549807 -0.07604186 -0.04292319  0.1971723\n",
      " -0.08755203 -0.4661425  -0.19486202 -0.07557598 -0.05191662  0.0815782\n",
      "  0.07619126 -0.15732945 -0.16957169  0.08530923 -0.0056325  -0.80014988\n",
      "  0.02387389 -0.16489048  0.01804309 -0.15044107  0.1913607  -0.04253129\n",
      " -0.31151776 -0.12038776  0.56745255  0.54326832  0.44489197  0.3820586\n",
      " -0.842323   -0.17866709 -0.07253886  0.7741667   0.50666727]\n",
      "Cum regret on Simulation 26.995628277744945 \n",
      "\n",
      "LinearTS simulation 2/4\n",
      "Found Theta [-0.20117256 -0.94990614 -0.94937083  0.00959688 -0.1722203  -0.69640984\n",
      "  0.64425779  0.01720908  0.10226166 -0.89051114 -0.85770139 -0.01135582\n",
      " -0.38179223 -0.44836266  0.02596274  0.55255823 -0.13822768 -0.00203517\n",
      " -0.11397114  0.83088534  0.03855095  0.43899164 -0.95948656  1.69174813\n",
      " -0.44581306  0.01673074 -0.06533504  0.80960568 -0.79758753  0.30226974\n",
      " -1.17088932 -1.87740143 -1.04912886 -0.43835112 -0.36929537]\n",
      "Cum regret on Simulation 56.67960313615305 \n",
      "\n",
      "LinearTS simulation 3/4\n",
      "Found Theta [ 0.07321463  0.17390021  0.2167389  -0.22149634  0.18565043 -0.19918357\n",
      "  0.12367823 -0.45071236 -0.08464059  0.08412714  0.08553608 -0.16996675\n",
      "  0.23426551  0.15318053 -0.98517347  0.33368866  0.41380876 -0.74556278\n",
      " -0.24381935  0.62209988 -0.27134312  0.84465163 -0.05652887 -0.65008723\n",
      " -0.1446588  -0.55904161  0.44164621 -0.52673454 -0.82711542  0.20322553\n",
      " -0.3952593  -0.84028652 -1.43031413 -0.60732047 -0.57714467]\n",
      "Cum regret on Simulation 29.171934837721256 \n",
      "\n",
      "LinearTS simulation 4/4\n",
      "Found Theta [ 2.15997961e-01  2.11741436e-04  6.41803268e-02  3.22989438e-01\n",
      " -1.67221321e-01  1.92775528e-01 -1.68115364e-01  6.63454025e-02\n",
      "  2.76517953e-01 -3.06300802e-01 -8.75477408e-02 -3.16854090e-01\n",
      " -2.23165726e-01  4.58127784e-02  2.19154058e-01  4.38129997e-01\n",
      "  2.81535651e-02 -5.22574051e-02 -2.15728250e-01 -2.94418484e-01\n",
      " -1.31015014e-01 -1.76469550e-02 -1.82060346e-01 -2.82466539e-01\n",
      "  1.77763421e-01 -6.31228392e-02 -4.52030043e-02  6.63626150e-01\n",
      " -9.00279604e-02 -1.50656073e-02 -2.06560234e-01  1.54778695e-01\n",
      "  3.61195697e-01  1.65989830e-01  5.32897022e-01]\n",
      "Cum regret on Simulation 28.068796994729937 \n",
      "\n",
      "\n",
      "\n"
     ]
    }
   ],
   "source": [
    "from mvarl_hands_on.utils.coldstart import RandomLinearArms\n",
    "\n",
    "nb_simulations = 4\n",
    "T = int(4e4)\n",
    "\n",
    "algorithms = {\n",
    "            'OFUL': lambda arm_features, bound_theta: \n",
    "              OFUL(arm_features=arm_features, reg_factor=1., delta=0.01,\n",
    "                 bound_theta=bound_theta, noise_std=config_cs['noise_std']),\n",
    "             'LinearTS': lambda arm_features, bound_theta:\n",
    "              LinearTS(arm_features=arm_features, reg_factor=1., delta=0.01,\n",
    "                 bound_theta=bound_theta, noise_std=config_cs['noise_std'], T=T)\n",
    "             }\n",
    "\n",
    "regrets = {}\n",
    "      \n",
    "for alg_name in algorithms.keys():\n",
    "    if alg_name not in regrets.keys():\n",
    "        regrets[alg_name] = np.zeros((nb_simulations, T))\n",
    "    \n",
    "    for k in range(nb_simulations):\n",
    "        if k % 1 == 0:\n",
    "            print(\"{} simulation {}/{}\".format(alg_name, k+1, nb_simulations))\n",
    "        model = ColdStartFromDataset(**config_cs)\n",
    "#        model = RandomLinearArms()\n",
    "        alg = algorithms[alg_name](arm_features=model.features, bound_theta=np.linalg.norm(model.theta))\n",
    "\n",
    "        for t in range(T):\n",
    "            action = alg.sample_action()\n",
    "            reward = model.reward(action)\n",
    "            regrets[alg_name][k, t] =  model.features[action].dot(model.theta  - alg.theta) \n",
    "            #regrets[alg_name][k, t] =  model.best_arm_reward() - reward\n",
    "            \n",
    "            alg.update(action, reward)\n",
    "            \n",
    "        print(\"Found Theta\", alg.theta)\n",
    "        print(\"Cum regret on Simulation\", np.sum(regrets[alg_name][k, :]), \"\\n\")\n",
    "    print(\"\\n\")\n"
   ]
  },
  {
   "cell_type": "code",
   "execution_count": null,
   "metadata": {},
   "outputs": [],
   "source": []
  },
  {
   "cell_type": "code",
   "execution_count": 11,
   "metadata": {
    "colab": {},
    "colab_type": "code",
    "id": "vz5uoLmvUKKP"
   },
   "outputs": [
    {
     "name": "stdout",
     "output_type": "stream",
     "text": [
      "[[-1.03107847e+00  8.05251611e-01 -1.02192506e-01 ... -1.46994353e-03\n",
      "   4.44322291e-04 -1.46359302e-03]\n",
      " [-6.20784554e-01  5.18994867e-01  4.21812896e-01 ...  7.13908767e-05\n",
      "   7.24509717e-05  7.56815444e-05]\n",
      " [-1.03107847e+00  8.05251611e-01 -1.02192506e-01 ... -1.46994353e-03\n",
      "   4.44322291e-04 -1.46359302e-03]\n",
      " [-1.17977787e+00  6.07196756e-01  3.30519196e-01 ... -1.51713281e-04\n",
      "  -1.50869695e-04 -1.48311984e-04]]\n",
      "[[-8.50113709e-01  1.10939492e-01  1.78042694e-01 ... -7.89751677e-03\n",
      "   3.73276219e-03  2.19887201e-04]\n",
      " [ 1.16660281e+00  8.19059629e-01  6.86671700e-01 ... -3.75910074e-03\n",
      "  -5.40904048e-03  3.92599691e-04]\n",
      " [-3.55165167e-01  4.34871582e-03  5.05944449e-01 ...  8.01017445e-05\n",
      "  -4.34961937e-03 -4.07561797e-04]\n",
      " [ 1.00653928e+00  3.24584027e-01  3.36721257e-01 ... -2.68308528e-03\n",
      "   2.79099463e-03 -4.94984265e-03]]\n"
     ]
    },
    {
     "data": {
      "text/plain": [
       "<matplotlib.legend.Legend at 0x7f85d94a68d0>"
      ]
     },
     "execution_count": 11,
     "metadata": {},
     "output_type": "execute_result"
    },
    {
     "data": {
      "image/png": "[encoded data removed]",
      "text/plain": [
       "<Figure size 720x576 with 1 Axes>"
      ]
     },
     "metadata": {
      "needs_background": "light"
     },
     "output_type": "display_data"
    }
   ],
   "source": [
    "for alg_name in algorithms.keys():\n",
    "    print(regrets[alg_name])\n",
    "\n",
    "plt.figure(figsize=(10,8))\n",
    "for alg_name in regrets.keys():\n",
    "    data = np.cumsum(regrets[alg_name], axis=1)\n",
    "    n_rep, T = data.shape\n",
    "    \n",
    "    mean_regret = np.mean(data, axis=0)\n",
    "    std_regret = np.std(data, axis=0) / math.sqrt(n_rep)\n",
    "    t = np.arange(T)\n",
    "    plt.plot(t, mean_regret, label=alg_name)\n",
    "    plt.fill_between(t, mean_regret - 2 * std_regret, mean_regret + 2 * std_regret, alpha=0.15)\n",
    "plt.legend()\n",
    "    "
   ]
  },
  {
   "cell_type": "code",
   "execution_count": null,
   "metadata": {},
   "outputs": [],
   "source": []
  }
 ],
 "metadata": {
  "colab": {
   "collapsed_sections": [],
   "name": "MVARL19_part3.ipynb",
   "private_outputs": true,
   "provenance": []
  },
  "kernelspec": {
   "display_name": "Python 3",
   "language": "python",
   "name": "python3"
  },
  "language_info": {
   "codemirror_mode": {
    "name": "ipython",
    "version": 3
   },
   "file_extension": ".py",
   "mimetype": "text/x-python",
   "name": "python",
   "nbconvert_exporter": "python",
   "pygments_lexer": "ipython3",
   "version": "3.7.5"
  }
 },
 "nbformat": 4,
 "nbformat_minor": 1
}
